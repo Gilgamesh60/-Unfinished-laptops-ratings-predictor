{
  "nbformat": 4,
  "nbformat_minor": 0,
  "metadata": {
    "colab": {
      "provenance": [],
      "collapsed_sections": [],
      "authorship_tag": "ABX9TyMhLh1hGvANxpZOpTKj6AJh",
      "include_colab_link": true
    },
    "kernelspec": {
      "name": "python3",
      "display_name": "Python 3"
    },
    "language_info": {
      "name": "python"
    }
  },
  "cells": [
    {
      "cell_type": "markdown",
      "metadata": {
        "id": "view-in-github",
        "colab_type": "text"
      },
      "source": [
        "<a href=\"https://colab.research.google.com/github/Gilgamesh60/-Unfinished-laptops-ratings-predictor/blob/main/Data_scrapper.ipynb\" target=\"_parent\"><img src=\"https://colab.research.google.com/assets/colab-badge.svg\" alt=\"Open In Colab\"/></a>"
      ]
    },
    {
      "cell_type": "code",
      "execution_count": null,
      "metadata": {
        "id": "BoLTr7xzjELf"
      },
      "outputs": [],
      "source": [
        "!pip install selenium\n",
        "!apt-get update # to update ubuntu to correctly run apt install\n",
        "!apt install chromium-chromedriver\n",
        "from selenium import webdriver\n",
        "from selenium.webdriver.common.keys import Keys\n",
        "from selenium.webdriver.common.by import By\n",
        "chrome_options = webdriver.ChromeOptions()\n",
        "chrome_options.add_argument('--headless')\n",
        "chrome_options.add_argument('--no-sandbox')\n",
        "chrome_options.add_argument('--disable-dev-shm-usage')\n",
        "driver = webdriver.Chrome('chromedriver',options=chrome_options)"
      ]
    },
    {
      "cell_type": "code",
      "source": [
        "from time import sleep\n",
        "from random import random\n",
        "import pandas as pd\n",
        "import requests\n",
        "from tqdm.notebook import tqdm\n",
        "from bs4 import BeautifulSoup\n",
        "from urllib.parse import urljoin\n",
        "import urllib.parse as urlparse\n",
        "from urllib.parse import parse_qs"
      ],
      "metadata": {
        "id": "sSxC_pZ29aI2"
      },
      "execution_count": null,
      "outputs": []
    },
    {
      "cell_type": "code",
      "source": [
        "search_query='laptops'\n",
        "BASE_URL='https://www.flipkart.com/'\n",
        "i=1\n",
        "URL=f'{BASE_URL}search?q={search_query}&sort=price_asc&page={i}'\n",
        "driver.get(URL)"
      ],
      "metadata": {
        "id": "GyjBTlEhTj6i"
      },
      "execution_count": null,
      "outputs": []
    },
    {
      "cell_type": "code",
      "source": [
        "import numpy as np\n",
        "def f1(url):\n",
        "  driver.get(url)\n",
        "  try:\n",
        "    temp_comp=[]\n",
        "    temp_model=[]\n",
        "    temp_ram=[]\n",
        "    temp_storage=[]\n",
        "    temp_storagetype=[]\n",
        "    l=driver.find_elements(by=By.CLASS_NAME,value='_4rR01T')\n",
        "    for i in range(len(l)):\n",
        "      temp_comp.append(l[i].text.split('- (')[0].split(' ')[0])\n",
        "      temp_model.append(l[i].text.split('- (')[0].split(' ')[1:])\n",
        "      temp_ram.append(int(l[i].text.split('- (')[1].split('/')[0][0]))\n",
        "      temp_storage.append(int(l[i].text.split('- (')[1].split('/')[1].split(' ')[0]))\n",
        "      temp_storagetype.append(l[i].text.split('- (')[1].split('/')[1].split(' ')[2:])\n",
        "  except:\n",
        "    pass\n",
        "   \n",
        "  try:\n",
        "      p=driver.find_elements(by=By.CLASS_NAME,value='_3tbKJL')\n",
        "      r=[]\n",
        "      for i in range(len(p)):\n",
        "            s=p[i].text.split('\\n')[0]\n",
        "            l=s.split(',')\n",
        "            sum=''\n",
        "            for i in range(len(l)):\n",
        "                      sum=sum+l[i]\n",
        "            r.append(sum)\n",
        "  except:\n",
        "    pass\n",
        "\n",
        "  return [temp_comp,temp_model,temp_ram,temp_storage,temp_storagetype,r]"
      ],
      "metadata": {
        "id": "rzoAJ24f6ZjV"
      },
      "execution_count": null,
      "outputs": []
    },
    {
      "cell_type": "code",
      "source": [
        "text='HP OMEN Ryzen 9 Octa Core 5900H - (16 GB/1 TB SSD/Windows 10 Home/8 GB Graphics/AMD Radeon RX 6600M) 16-C0141AX Gaming Laptop  (16.1 inch, Mica Silver, 2.23 kg, With MS Office)'\n",
        "int(text.split('- (')[1].split('/')[0][0])"
      ],
      "metadata": {
        "colab": {
          "base_uri": "https://localhost:8080/"
        },
        "id": "ffcNU00SdPfR",
        "outputId": "c31f4266-2d34-469a-a6b0-15ea24bcd74d"
      },
      "execution_count": null,
      "outputs": [
        {
          "output_type": "execute_result",
          "data": {
            "text/plain": [
              "1"
            ]
          },
          "metadata": {},
          "execution_count": 1
        }
      ]
    },
    {
      "cell_type": "code",
      "source": [
        "ratings=[]\n",
        "model=[]\n",
        "price=[]\n",
        "no_of_reviews=[]\n",
        "no_of_ratings=[]\n",
        "RAM=[]\n",
        "storage=[]\n",
        "storage_type=[]\n",
        "company=[]\n",
        "no_of_pages=40\n",
        "for i in range(no_of_pages):\n",
        "  model.extend(f1(f'{BASE_URL}search?q={search_query}&sort=price_asc&page={i+1}')[1])\n",
        "  price.extend(f1(f'{BASE_URL}search?q={search_query}&sort=price_asc&page={i+1}')[5])\n",
        "  company.extend(f1(f'{BASE_URL}search?q={search_query}&sort=price_asc&page={i+1}')[0])\n",
        "  RAM.extend(f1(f'{BASE_URL}search?q={search_query}&sort=price_asc&page={i+1}')[2])\n",
        "  storage.extend(f1(f'{BASE_URL}search?q={search_query}&sort=price_asc&page={i+1}')[3])\n",
        "  storage_type.extend(f1(f'{BASE_URL}search?q={search_query}&sort=price_asc&page={i+1}')[4])"
      ],
      "metadata": {
        "id": "xdQNx3y4EEBP"
      },
      "execution_count": null,
      "outputs": []
    },
    {
      "cell_type": "code",
      "source": [
        "print(len(company))\n",
        "print(len(model))\n",
        "print(len(price))\n",
        "print(len(storage))\n",
        "print(len(storage_type))\n",
        "print(len(RAM))"
      ],
      "metadata": {
        "colab": {
          "base_uri": "https://localhost:8080/"
        },
        "id": "pb0WeSuTvsbZ",
        "outputId": "c94969fc-5ab5-45db-db44-c75348c86f3f"
      },
      "execution_count": null,
      "outputs": [
        {
          "output_type": "stream",
          "name": "stdout",
          "text": [
            "938\n",
            "938\n",
            "960\n",
            "936\n",
            "936\n",
            "937\n"
          ]
        }
      ]
    },
    {
      "cell_type": "code",
      "source": [
        "Model=[]\n",
        "Price=[]\n",
        "Company=[]\n",
        "Laptop_RAM=[]\n",
        "Storage=[]\n",
        "Storage_type=[]\n",
        "for i in range(936):\n",
        "  Model.append(model[i])\n",
        "  Price.append(price[i])\n",
        "  Company.append(company[i])\n",
        "  Laptop_RAM.append(RAM[i])\n",
        "  Storage.append(storage[i])\n",
        "  Storage_type.append(storage_type[i])"
      ],
      "metadata": {
        "id": "pJ7-PxtawLgV"
      },
      "execution_count": null,
      "outputs": []
    },
    {
      "cell_type": "code",
      "source": [
        "products={\"Company\":Company,\"model\":Model,\"RAM\":Laptop_RAM,\"storage\":Storage,\"storage_type\":Storage_type,\"Price\":Price}\n",
        "import pandas as pd\n",
        "df=pd.DataFrame(products)"
      ],
      "metadata": {
        "id": "ihAqtdLosL5X"
      },
      "execution_count": null,
      "outputs": []
    },
    {
      "cell_type": "code",
      "source": [
        "df"
      ],
      "metadata": {
        "colab": {
          "base_uri": "https://localhost:8080/",
          "height": 424
        },
        "id": "tyYQJpInfeMX",
        "outputId": "df42cd8b-2075-4bd5-dc75-61d6aa516013"
      },
      "execution_count": null,
      "outputs": [
        {
          "output_type": "execute_result",
          "data": {
            "text/plain": [
              "      Company                                              model  RAM  \\\n",
              "0        acer                      [One, 10, Atom, Quad, Core, ]    2   \n",
              "1          HP                                   [APU, Pro, A4, ]    4   \n",
              "2      Lenovo         [APU, Dual, Core, E2, E2-9000, 7th, Gen, ]    4   \n",
              "3    Micromax  [Canvas, Laptab, II, (WIFI), Atom, Quad, Core,...    2   \n",
              "4        ASUS                [Chromebook, Celeron, Dual, Core, ]    4   \n",
              "..        ...                                                ...  ...   \n",
              "931        HP  [Spectre, x360, Core, i5, 11th, Gen, Intel, EV...    1   \n",
              "932    Lenovo  [Yoga, Slim, 7, Intel, EVO, Core, i5, 11th, Ge...    1   \n",
              "933      DELL                    [Vostro, Core, i5, 12th, Gen, ]    1   \n",
              "934    Lenovo          [IdeaPad, 5, Pro, Ryzen, 7, Hexa, Core, ]    1   \n",
              "935        HP                  [Pavilion, Core, i7, 12th, Gen, ]    1   \n",
              "\n",
              "     storage     storage_type   Price  \n",
              "0         32            [SSD]  ₹15190  \n",
              "1         32  [EMMC, Storage]  ₹16990  \n",
              "2          1            [HDD]  ₹18890  \n",
              "3         32  [EMMC, Storage]  ₹18999  \n",
              "4         32  [EMMC, Storage]  ₹19174  \n",
              "..       ...              ...     ...  \n",
              "931      512            [SSD]  ₹86890  \n",
              "932      512            [SSD]  ₹86990  \n",
              "933        1            [SSD]  ₹86990  \n",
              "934      512            [SSD]  ₹87000  \n",
              "935      512            [SSD]  ₹87390  \n",
              "\n",
              "[936 rows x 6 columns]"
            ],
            "text/html": [
              "\n",
              "  <div id=\"df-3606c563-e025-4047-872b-ea3771986c90\">\n",
              "    <div class=\"colab-df-container\">\n",
              "      <div>\n",
              "<style scoped>\n",
              "    .dataframe tbody tr th:only-of-type {\n",
              "        vertical-align: middle;\n",
              "    }\n",
              "\n",
              "    .dataframe tbody tr th {\n",
              "        vertical-align: top;\n",
              "    }\n",
              "\n",
              "    .dataframe thead th {\n",
              "        text-align: right;\n",
              "    }\n",
              "</style>\n",
              "<table border=\"1\" class=\"dataframe\">\n",
              "  <thead>\n",
              "    <tr style=\"text-align: right;\">\n",
              "      <th></th>\n",
              "      <th>Company</th>\n",
              "      <th>model</th>\n",
              "      <th>RAM</th>\n",
              "      <th>storage</th>\n",
              "      <th>storage_type</th>\n",
              "      <th>Price</th>\n",
              "    </tr>\n",
              "  </thead>\n",
              "  <tbody>\n",
              "    <tr>\n",
              "      <th>0</th>\n",
              "      <td>acer</td>\n",
              "      <td>[One, 10, Atom, Quad, Core, ]</td>\n",
              "      <td>2</td>\n",
              "      <td>32</td>\n",
              "      <td>[SSD]</td>\n",
              "      <td>₹15190</td>\n",
              "    </tr>\n",
              "    <tr>\n",
              "      <th>1</th>\n",
              "      <td>HP</td>\n",
              "      <td>[APU, Pro, A4, ]</td>\n",
              "      <td>4</td>\n",
              "      <td>32</td>\n",
              "      <td>[EMMC, Storage]</td>\n",
              "      <td>₹16990</td>\n",
              "    </tr>\n",
              "    <tr>\n",
              "      <th>2</th>\n",
              "      <td>Lenovo</td>\n",
              "      <td>[APU, Dual, Core, E2, E2-9000, 7th, Gen, ]</td>\n",
              "      <td>4</td>\n",
              "      <td>1</td>\n",
              "      <td>[HDD]</td>\n",
              "      <td>₹18890</td>\n",
              "    </tr>\n",
              "    <tr>\n",
              "      <th>3</th>\n",
              "      <td>Micromax</td>\n",
              "      <td>[Canvas, Laptab, II, (WIFI), Atom, Quad, Core,...</td>\n",
              "      <td>2</td>\n",
              "      <td>32</td>\n",
              "      <td>[EMMC, Storage]</td>\n",
              "      <td>₹18999</td>\n",
              "    </tr>\n",
              "    <tr>\n",
              "      <th>4</th>\n",
              "      <td>ASUS</td>\n",
              "      <td>[Chromebook, Celeron, Dual, Core, ]</td>\n",
              "      <td>4</td>\n",
              "      <td>32</td>\n",
              "      <td>[EMMC, Storage]</td>\n",
              "      <td>₹19174</td>\n",
              "    </tr>\n",
              "    <tr>\n",
              "      <th>...</th>\n",
              "      <td>...</td>\n",
              "      <td>...</td>\n",
              "      <td>...</td>\n",
              "      <td>...</td>\n",
              "      <td>...</td>\n",
              "      <td>...</td>\n",
              "    </tr>\n",
              "    <tr>\n",
              "      <th>931</th>\n",
              "      <td>HP</td>\n",
              "      <td>[Spectre, x360, Core, i5, 11th, Gen, Intel, EV...</td>\n",
              "      <td>1</td>\n",
              "      <td>512</td>\n",
              "      <td>[SSD]</td>\n",
              "      <td>₹86890</td>\n",
              "    </tr>\n",
              "    <tr>\n",
              "      <th>932</th>\n",
              "      <td>Lenovo</td>\n",
              "      <td>[Yoga, Slim, 7, Intel, EVO, Core, i5, 11th, Ge...</td>\n",
              "      <td>1</td>\n",
              "      <td>512</td>\n",
              "      <td>[SSD]</td>\n",
              "      <td>₹86990</td>\n",
              "    </tr>\n",
              "    <tr>\n",
              "      <th>933</th>\n",
              "      <td>DELL</td>\n",
              "      <td>[Vostro, Core, i5, 12th, Gen, ]</td>\n",
              "      <td>1</td>\n",
              "      <td>1</td>\n",
              "      <td>[SSD]</td>\n",
              "      <td>₹86990</td>\n",
              "    </tr>\n",
              "    <tr>\n",
              "      <th>934</th>\n",
              "      <td>Lenovo</td>\n",
              "      <td>[IdeaPad, 5, Pro, Ryzen, 7, Hexa, Core, ]</td>\n",
              "      <td>1</td>\n",
              "      <td>512</td>\n",
              "      <td>[SSD]</td>\n",
              "      <td>₹87000</td>\n",
              "    </tr>\n",
              "    <tr>\n",
              "      <th>935</th>\n",
              "      <td>HP</td>\n",
              "      <td>[Pavilion, Core, i7, 12th, Gen, ]</td>\n",
              "      <td>1</td>\n",
              "      <td>512</td>\n",
              "      <td>[SSD]</td>\n",
              "      <td>₹87390</td>\n",
              "    </tr>\n",
              "  </tbody>\n",
              "</table>\n",
              "<p>936 rows × 6 columns</p>\n",
              "</div>\n",
              "      <button class=\"colab-df-convert\" onclick=\"convertToInteractive('df-3606c563-e025-4047-872b-ea3771986c90')\"\n",
              "              title=\"Convert this dataframe to an interactive table.\"\n",
              "              style=\"display:none;\">\n",
              "        \n",
              "  <svg xmlns=\"http://www.w3.org/2000/svg\" height=\"24px\"viewBox=\"0 0 24 24\"\n",
              "       width=\"24px\">\n",
              "    <path d=\"M0 0h24v24H0V0z\" fill=\"none\"/>\n",
              "    <path d=\"M18.56 5.44l.94 2.06.94-2.06 2.06-.94-2.06-.94-.94-2.06-.94 2.06-2.06.94zm-11 1L8.5 8.5l.94-2.06 2.06-.94-2.06-.94L8.5 2.5l-.94 2.06-2.06.94zm10 10l.94 2.06.94-2.06 2.06-.94-2.06-.94-.94-2.06-.94 2.06-2.06.94z\"/><path d=\"M17.41 7.96l-1.37-1.37c-.4-.4-.92-.59-1.43-.59-.52 0-1.04.2-1.43.59L10.3 9.45l-7.72 7.72c-.78.78-.78 2.05 0 2.83L4 21.41c.39.39.9.59 1.41.59.51 0 1.02-.2 1.41-.59l7.78-7.78 2.81-2.81c.8-.78.8-2.07 0-2.86zM5.41 20L4 18.59l7.72-7.72 1.47 1.35L5.41 20z\"/>\n",
              "  </svg>\n",
              "      </button>\n",
              "      \n",
              "  <style>\n",
              "    .colab-df-container {\n",
              "      display:flex;\n",
              "      flex-wrap:wrap;\n",
              "      gap: 12px;\n",
              "    }\n",
              "\n",
              "    .colab-df-convert {\n",
              "      background-color: #E8F0FE;\n",
              "      border: none;\n",
              "      border-radius: 50%;\n",
              "      cursor: pointer;\n",
              "      display: none;\n",
              "      fill: #1967D2;\n",
              "      height: 32px;\n",
              "      padding: 0 0 0 0;\n",
              "      width: 32px;\n",
              "    }\n",
              "\n",
              "    .colab-df-convert:hover {\n",
              "      background-color: #E2EBFA;\n",
              "      box-shadow: 0px 1px 2px rgba(60, 64, 67, 0.3), 0px 1px 3px 1px rgba(60, 64, 67, 0.15);\n",
              "      fill: #174EA6;\n",
              "    }\n",
              "\n",
              "    [theme=dark] .colab-df-convert {\n",
              "      background-color: #3B4455;\n",
              "      fill: #D2E3FC;\n",
              "    }\n",
              "\n",
              "    [theme=dark] .colab-df-convert:hover {\n",
              "      background-color: #434B5C;\n",
              "      box-shadow: 0px 1px 3px 1px rgba(0, 0, 0, 0.15);\n",
              "      filter: drop-shadow(0px 1px 2px rgba(0, 0, 0, 0.3));\n",
              "      fill: #FFFFFF;\n",
              "    }\n",
              "  </style>\n",
              "\n",
              "      <script>\n",
              "        const buttonEl =\n",
              "          document.querySelector('#df-3606c563-e025-4047-872b-ea3771986c90 button.colab-df-convert');\n",
              "        buttonEl.style.display =\n",
              "          google.colab.kernel.accessAllowed ? 'block' : 'none';\n",
              "\n",
              "        async function convertToInteractive(key) {\n",
              "          const element = document.querySelector('#df-3606c563-e025-4047-872b-ea3771986c90');\n",
              "          const dataTable =\n",
              "            await google.colab.kernel.invokeFunction('convertToInteractive',\n",
              "                                                     [key], {});\n",
              "          if (!dataTable) return;\n",
              "\n",
              "          const docLinkHtml = 'Like what you see? Visit the ' +\n",
              "            '<a target=\"_blank\" href=https://colab.research.google.com/notebooks/data_table.ipynb>data table notebook</a>'\n",
              "            + ' to learn more about interactive tables.';\n",
              "          element.innerHTML = '';\n",
              "          dataTable['output_type'] = 'display_data';\n",
              "          await google.colab.output.renderOutput(dataTable, element);\n",
              "          const docLink = document.createElement('div');\n",
              "          docLink.innerHTML = docLinkHtml;\n",
              "          element.appendChild(docLink);\n",
              "        }\n",
              "      </script>\n",
              "    </div>\n",
              "  </div>\n",
              "  "
            ]
          },
          "metadata": {},
          "execution_count": 12
        }
      ]
    },
    {
      "cell_type": "code",
      "source": [
        "df.to_csv('laptops.csv',index=False)"
      ],
      "metadata": {
        "id": "2JvVmx5YtHHQ"
      },
      "execution_count": null,
      "outputs": []
    }
  ]
}